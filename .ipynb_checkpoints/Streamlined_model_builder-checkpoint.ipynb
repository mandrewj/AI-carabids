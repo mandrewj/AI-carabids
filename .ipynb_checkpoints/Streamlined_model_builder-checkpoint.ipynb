{
 "cells": [
  {
   "cell_type": "markdown",
   "id": "15f3313a-83d2-440d-85f9-2de15333e57e",
   "metadata": {},
   "source": [
    "# Streamlined Model Builder\n"
   ]
  },
  {
   "cell_type": "code",
   "execution_count": 1,
   "id": "6428fe39-6079-494f-984d-5d33e0eeed63",
   "metadata": {},
   "outputs": [],
   "source": [
    "#Import required packages\n",
    "import tensorflow as tf\n",
    "import os\n",
    "import cv2\n",
    "import numpy as np\n",
    "from tensorflow.keras.models import Sequential\n",
    "from tensorflow.keras.layers import Conv2D, MaxPooling2D, Dense, Flatten, Dropout, BatchNormalization, GlobalAveragePooling2D, SeparableConv2D"
   ]
  },
  {
   "cell_type": "code",
   "execution_count": 2,
   "id": "73a0e9ec-4d11-4e70-989d-aed5a317da8e",
   "metadata": {},
   "outputs": [],
   "source": [
    "#set data directory relative path (expecting subdirectories of classes)\n",
    "os.chdir(\"/Users/andrew/Documents/Research/BiodivInformatics/AI-carabids/\")\n",
    "data_dir = 'carabid_data'\n",
    "#find names of classes\n",
    "classes=os.listdir(data_dir)"
   ]
  },
  {
   "cell_type": "code",
   "execution_count": 3,
   "id": "9aca92e1-e53d-467e-bfde-c4bc74874d34",
   "metadata": {},
   "outputs": [
    {
     "name": "stdout",
     "output_type": "stream",
     "text": [
      "Found 270 files belonging to 12 classes.\n",
      "Using 216 files for training.\n",
      "Using 54 files for validation.\n"
     ]
    }
   ],
   "source": [
    "#Read in data\n",
    "train, val = tf.keras.utils.image_dataset_from_directory(data_dir, image_size=(400, 600), class_names=classes, validation_split=0.2, subset=\"both\", seed=439173)"
   ]
  },
  {
   "cell_type": "code",
   "execution_count": 4,
   "id": "1a0ce25c-6ebd-4b9d-b45b-8f072b0a6f1f",
   "metadata": {},
   "outputs": [],
   "source": [
    "#scale data\n",
    "train_scaled = train.map(lambda x,y: (x/255, y))\n",
    "val_scaled = val.map(lambda x,y: (x/255, y))"
   ]
  },
  {
   "cell_type": "code",
   "execution_count": 11,
   "id": "0565bb6a-0335-4ac3-be53-b59e5fe64bcd",
   "metadata": {},
   "outputs": [],
   "source": [
    "#establish a model - can do rest inside first command or use the add method\n",
    "model = Sequential()\n",
    "\n",
    "model.add(Conv2D(16, (3,3), 2, activation='relu', input_shape=(400,600,3), padding='same'))\n",
    "#model.add(Conv2D(16, (3,3), 1, activation='relu', padding='same'))\n",
    "model.add(MaxPooling2D())\n",
    "\n",
    "model.add(Conv2D(32, (3,3), 2, activation='relu', padding='same'))\n",
    "#model.add(Conv2D(32, (3,3), 1, activation='relu', padding='same'))\n",
    "model.add(MaxPooling2D())\n",
    "\n",
    "model.add(Conv2D(128, (3,3), 2, activation='relu', padding='same'))\n",
    "model.add(MaxPooling2D())\n",
    "\n",
    "#model.add(Flatten())\n",
    "model.add(GlobalAveragePooling2D())\n",
    "model.add(Dense(512, activation='relu'))\n",
    "#number of final possibilities\n",
    "model.add(Dense(12, activation='softmax'))"
   ]
  },
  {
   "cell_type": "code",
   "execution_count": 12,
   "id": "88252c7b-1013-4944-ad79-7439d033d43e",
   "metadata": {},
   "outputs": [
    {
     "name": "stdout",
     "output_type": "stream",
     "text": [
      "Model: \"sequential_2\"\n",
      "_________________________________________________________________\n",
      " Layer (type)                Output Shape              Param #   \n",
      "=================================================================\n",
      " conv2d_8 (Conv2D)           (None, 200, 300, 16)      448       \n",
      "                                                                 \n",
      " max_pooling2d_6 (MaxPoolin  (None, 100, 150, 16)      0         \n",
      " g2D)                                                            \n",
      "                                                                 \n",
      " conv2d_9 (Conv2D)           (None, 50, 75, 32)        4640      \n",
      "                                                                 \n",
      " max_pooling2d_7 (MaxPoolin  (None, 25, 37, 32)        0         \n",
      " g2D)                                                            \n",
      "                                                                 \n",
      " conv2d_10 (Conv2D)          (None, 13, 19, 128)       36992     \n",
      "                                                                 \n",
      " max_pooling2d_8 (MaxPoolin  (None, 6, 9, 128)         0         \n",
      " g2D)                                                            \n",
      "                                                                 \n",
      " global_average_pooling2d_1  (None, 128)               0         \n",
      "  (GlobalAveragePooling2D)                                       \n",
      "                                                                 \n",
      " dense_3 (Dense)             (None, 512)               66048     \n",
      "                                                                 \n",
      " dense_4 (Dense)             (None, 12)                6156      \n",
      "                                                                 \n",
      "=================================================================\n",
      "Total params: 114284 (446.42 KB)\n",
      "Trainable params: 114284 (446.42 KB)\n",
      "Non-trainable params: 0 (0.00 Byte)\n",
      "_________________________________________________________________\n"
     ]
    }
   ],
   "source": [
    "#Compile model and set up logs and callbacks\n",
    "model.compile('adam', loss=tf.losses.SparseCategoricalCrossentropy(), metrics=['accuracy'])\n",
    "model.summary()\n",
    "logdir = 'logs'\n",
    "tensorboard_callback = tf.keras.callbacks.TensorBoard(log_dir=logdir)"
   ]
  },
  {
   "cell_type": "code",
   "execution_count": 18,
   "id": "e152d477-4e51-4e0d-b30a-13d69cdb6a68",
   "metadata": {},
   "outputs": [
    {
     "name": "stdout",
     "output_type": "stream",
     "text": [
      "Epoch 1/50\n",
      "7/7 [==============================] - 13s 549ms/step - loss: 0.0966 - accuracy: 0.9769 - val_loss: 0.5798 - val_accuracy: 0.8148\n",
      "Epoch 2/50\n",
      "7/7 [==============================] - 12s 570ms/step - loss: 0.1239 - accuracy: 0.9722 - val_loss: 0.4373 - val_accuracy: 0.8704\n",
      "Epoch 3/50\n",
      "7/7 [==============================] - 11s 507ms/step - loss: 0.0989 - accuracy: 0.9722 - val_loss: 0.4906 - val_accuracy: 0.8704\n",
      "Epoch 4/50\n",
      "7/7 [==============================] - 11s 535ms/step - loss: 0.1896 - accuracy: 0.9213 - val_loss: 0.5340 - val_accuracy: 0.8333\n",
      "Epoch 5/50\n",
      "7/7 [==============================] - 11s 548ms/step - loss: 0.2383 - accuracy: 0.9028 - val_loss: 0.6161 - val_accuracy: 0.8148\n",
      "Epoch 6/50\n",
      "7/7 [==============================] - 12s 548ms/step - loss: 0.1446 - accuracy: 0.9676 - val_loss: 0.5601 - val_accuracy: 0.8148\n",
      "Epoch 7/50\n",
      "7/7 [==============================] - 13s 581ms/step - loss: 0.1349 - accuracy: 0.9537 - val_loss: 0.6715 - val_accuracy: 0.7778\n",
      "Epoch 8/50\n",
      "7/7 [==============================] - 12s 548ms/step - loss: 0.1776 - accuracy: 0.9352 - val_loss: 0.5903 - val_accuracy: 0.7593\n",
      "Epoch 9/50\n",
      "7/7 [==============================] - 12s 559ms/step - loss: 0.1255 - accuracy: 0.9537 - val_loss: 0.4611 - val_accuracy: 0.8889\n",
      "Epoch 10/50\n",
      "7/7 [==============================] - 12s 557ms/step - loss: 0.1281 - accuracy: 0.9537 - val_loss: 0.8707 - val_accuracy: 0.7037\n",
      "Epoch 11/50\n",
      "7/7 [==============================] - 12s 553ms/step - loss: 0.1063 - accuracy: 0.9676 - val_loss: 0.5666 - val_accuracy: 0.8148\n",
      "Epoch 12/50\n",
      "7/7 [==============================] - 13s 577ms/step - loss: 0.1067 - accuracy: 0.9537 - val_loss: 0.5782 - val_accuracy: 0.8148\n",
      "Epoch 13/50\n",
      "7/7 [==============================] - 13s 586ms/step - loss: 0.1068 - accuracy: 0.9815 - val_loss: 0.6855 - val_accuracy: 0.7963\n",
      "Epoch 14/50\n"
     ]
    },
    {
     "name": "stderr",
     "output_type": "stream",
     "text": [
      "2023-08-25 12:41:16.368698: I tensorflow/core/kernels/data/shuffle_dataset_op.cc:422] Filling up shuffle buffer (this may take a while): 216 of 256\n",
      "2023-08-25 12:41:16.368902: I tensorflow/core/kernels/data/shuffle_dataset_op.cc:450] Shuffle buffer filled.\n"
     ]
    },
    {
     "name": "stdout",
     "output_type": "stream",
     "text": [
      "7/7 [==============================] - 14s 574ms/step - loss: 0.0608 - accuracy: 0.9954 - val_loss: 0.4575 - val_accuracy: 0.8704\n",
      "Epoch 15/50\n",
      "7/7 [==============================] - 13s 580ms/step - loss: 0.0576 - accuracy: 0.9907 - val_loss: 0.5929 - val_accuracy: 0.8333\n",
      "Epoch 16/50\n",
      "7/7 [==============================] - 13s 574ms/step - loss: 0.0511 - accuracy: 0.9954 - val_loss: 0.5281 - val_accuracy: 0.8333\n",
      "Epoch 17/50\n",
      "7/7 [==============================] - 12s 556ms/step - loss: 0.0503 - accuracy: 0.9954 - val_loss: 0.5734 - val_accuracy: 0.8519\n",
      "Epoch 18/50\n",
      "7/7 [==============================] - 13s 583ms/step - loss: 0.0485 - accuracy: 0.9907 - val_loss: 0.6136 - val_accuracy: 0.7963\n",
      "Epoch 19/50\n",
      "7/7 [==============================] - 13s 573ms/step - loss: 0.0418 - accuracy: 0.9954 - val_loss: 0.5654 - val_accuracy: 0.8333\n",
      "Epoch 20/50\n",
      "7/7 [==============================] - 14s 628ms/step - loss: 0.0381 - accuracy: 1.0000 - val_loss: 0.4925 - val_accuracy: 0.8889\n",
      "Epoch 21/50\n",
      "7/7 [==============================] - 14s 589ms/step - loss: 0.0347 - accuracy: 1.0000 - val_loss: 0.5642 - val_accuracy: 0.8333\n",
      "Epoch 22/50\n",
      "7/7 [==============================] - 13s 599ms/step - loss: 0.0365 - accuracy: 1.0000 - val_loss: 0.5732 - val_accuracy: 0.8148\n",
      "Epoch 23/50\n",
      "7/7 [==============================] - 14s 597ms/step - loss: 0.0346 - accuracy: 1.0000 - val_loss: 0.4720 - val_accuracy: 0.8889\n",
      "Epoch 24/50\n",
      "7/7 [==============================] - 14s 626ms/step - loss: 0.0342 - accuracy: 1.0000 - val_loss: 0.6308 - val_accuracy: 0.8333\n",
      "Epoch 25/50\n",
      "7/7 [==============================] - 13s 573ms/step - loss: 0.0361 - accuracy: 0.9954 - val_loss: 0.5158 - val_accuracy: 0.8333\n",
      "Epoch 26/50\n",
      "7/7 [==============================] - 13s 621ms/step - loss: 0.0363 - accuracy: 1.0000 - val_loss: 0.5195 - val_accuracy: 0.8704\n",
      "Epoch 27/50\n",
      "7/7 [==============================] - 13s 587ms/step - loss: 0.0268 - accuracy: 1.0000 - val_loss: 0.5313 - val_accuracy: 0.8333\n",
      "Epoch 28/50\n",
      "7/7 [==============================] - 13s 582ms/step - loss: 0.0316 - accuracy: 0.9954 - val_loss: 0.5393 - val_accuracy: 0.8333\n",
      "Epoch 29/50\n",
      "7/7 [==============================] - 13s 588ms/step - loss: 0.0359 - accuracy: 1.0000 - val_loss: 0.5701 - val_accuracy: 0.8519\n",
      "Epoch 30/50\n",
      "7/7 [==============================] - 13s 613ms/step - loss: 0.0346 - accuracy: 0.9954 - val_loss: 0.5616 - val_accuracy: 0.8333\n",
      "Epoch 31/50\n",
      "7/7 [==============================] - 13s 582ms/step - loss: 0.0314 - accuracy: 1.0000 - val_loss: 0.5371 - val_accuracy: 0.8333\n",
      "Epoch 32/50\n",
      "7/7 [==============================] - 13s 575ms/step - loss: 0.0361 - accuracy: 0.9954 - val_loss: 0.4952 - val_accuracy: 0.8889\n",
      "Epoch 33/50\n",
      "7/7 [==============================] - 13s 587ms/step - loss: 0.0686 - accuracy: 0.9861 - val_loss: 0.5570 - val_accuracy: 0.7963\n",
      "Epoch 34/50\n",
      "7/7 [==============================] - 13s 590ms/step - loss: 0.1723 - accuracy: 0.9120 - val_loss: 0.7862 - val_accuracy: 0.8148\n",
      "Epoch 35/50\n",
      "7/7 [==============================] - 13s 587ms/step - loss: 0.1150 - accuracy: 0.9537 - val_loss: 0.7242 - val_accuracy: 0.7778\n",
      "Epoch 36/50\n",
      "7/7 [==============================] - 13s 581ms/step - loss: 0.0957 - accuracy: 0.9630 - val_loss: 0.5246 - val_accuracy: 0.8704\n",
      "Epoch 37/50\n",
      "7/7 [==============================] - 13s 586ms/step - loss: 0.0493 - accuracy: 0.9907 - val_loss: 0.6129 - val_accuracy: 0.8333\n",
      "Epoch 38/50\n",
      "7/7 [==============================] - 13s 582ms/step - loss: 0.0617 - accuracy: 0.9907 - val_loss: 0.5012 - val_accuracy: 0.8519\n",
      "Epoch 39/50\n",
      "7/7 [==============================] - 13s 595ms/step - loss: 0.0630 - accuracy: 0.9861 - val_loss: 0.6345 - val_accuracy: 0.8148\n",
      "Epoch 40/50\n",
      "7/7 [==============================] - 13s 598ms/step - loss: 0.0656 - accuracy: 0.9815 - val_loss: 0.7118 - val_accuracy: 0.8148\n",
      "Epoch 41/50\n",
      "7/7 [==============================] - 13s 579ms/step - loss: 0.1119 - accuracy: 0.9630 - val_loss: 0.6358 - val_accuracy: 0.8148\n",
      "Epoch 42/50\n",
      "7/7 [==============================] - 13s 584ms/step - loss: 0.0976 - accuracy: 0.9769 - val_loss: 0.7527 - val_accuracy: 0.7593\n",
      "Epoch 43/50\n",
      "7/7 [==============================] - 13s 575ms/step - loss: 0.1033 - accuracy: 0.9722 - val_loss: 0.4894 - val_accuracy: 0.8333\n",
      "Epoch 44/50\n",
      "7/7 [==============================] - 13s 576ms/step - loss: 0.0714 - accuracy: 0.9907 - val_loss: 0.7020 - val_accuracy: 0.7963\n",
      "Epoch 45/50\n",
      "7/7 [==============================] - 13s 572ms/step - loss: 0.0898 - accuracy: 0.9769 - val_loss: 0.7595 - val_accuracy: 0.7593\n",
      "Epoch 46/50\n",
      "7/7 [==============================] - 13s 574ms/step - loss: 0.0801 - accuracy: 0.9815 - val_loss: 0.7426 - val_accuracy: 0.8333\n",
      "Epoch 47/50\n",
      "7/7 [==============================] - 14s 606ms/step - loss: 0.0795 - accuracy: 0.9722 - val_loss: 0.5705 - val_accuracy: 0.8148\n",
      "Epoch 48/50\n",
      "7/7 [==============================] - 13s 570ms/step - loss: 0.0483 - accuracy: 0.9907 - val_loss: 0.5679 - val_accuracy: 0.8519\n",
      "Epoch 49/50\n",
      "7/7 [==============================] - 13s 570ms/step - loss: 0.0329 - accuracy: 1.0000 - val_loss: 0.6476 - val_accuracy: 0.8148\n",
      "Epoch 50/50\n",
      "7/7 [==============================] - 13s 579ms/step - loss: 0.0290 - accuracy: 1.0000 - val_loss: 0.5149 - val_accuracy: 0.8704\n"
     ]
    }
   ],
   "source": [
    "#Train model\n",
    "hist = model.fit(train_scaled, epochs=50, validation_data=val_scaled, callbacks=[tensorboard_callback])"
   ]
  },
  {
   "cell_type": "markdown",
   "id": "e7ff62e8-c9ed-4164-bd6d-9f67fd666e8f",
   "metadata": {},
   "source": [
    "### Notes\n",
    "- padding='same' is important, bumps up how fast the models starts to increase, and jumps the val_accuracy by 10% right away\n",
    "- average global pooling is a little faster\n",
    "- number of filters increases computation time. Might not have a huge response to accuracy of 12-sp dataset?\n",
    "- fewer conv2d layers make epochs faster but require more epochs to 'catch' onto higher accuracy?\n",
    "- "
   ]
  },
  {
   "cell_type": "code",
   "execution_count": 19,
   "id": "c51fc8d7-2072-45af-8e51-36a702c047b1",
   "metadata": {},
   "outputs": [
    {
     "name": "stdout",
     "output_type": "stream",
     "text": [
      "INFO:tensorflow:Assets written to: models/JORN-12.tf/assets\n"
     ]
    },
    {
     "name": "stderr",
     "output_type": "stream",
     "text": [
      "INFO:tensorflow:Assets written to: models/JORN-12.tf/assets\n"
     ]
    }
   ],
   "source": [
    "model.save(os.path.join('models','JORN-12.tf'))"
   ]
  },
  {
   "cell_type": "markdown",
   "id": "282abec9-6a98-4074-933a-f863d6024a06",
   "metadata": {},
   "source": [
    "## Previous models"
   ]
  },
  {
   "cell_type": "code",
   "execution_count": null,
   "id": "dd83861d-afc9-45fe-85b6-2187352c6fe4",
   "metadata": {},
   "outputs": [],
   "source": [
    "#Fast epochs (15s) but took 250 epochs - 80-85%\n",
    "\n",
    "#establish a model - can do rest inside first command or use the add method\n",
    "model = Sequential()\n",
    "\n",
    "model.add(Conv2D(16, (3,3), 2, activation='relu', input_shape=(400,600,3), padding='same'))\n",
    "#model.add(Conv2D(16, (3,3), 1, activation='relu', padding='same'))\n",
    "model.add(MaxPooling2D())\n",
    "\n",
    "model.add(Conv2D(32, (3,3), 2, activation='relu', padding='same'))\n",
    "#model.add(Conv2D(32, (3,3), 1, activation='relu', padding='same'))\n",
    "model.add(MaxPooling2D())\n",
    "\n",
    "model.add(Conv2D(128, (3,3), 2, activation='relu', padding='same'))\n",
    "model.add(MaxPooling2D())\n",
    "\n",
    "#model.add(Flatten())\n",
    "model.add(GlobalAveragePooling2D())\n",
    "model.add(Dense(512, activation='relu'))\n",
    "#number of final possibilities\n",
    "model.add(Dense(12, activation='softmax'))"
   ]
  },
  {
   "cell_type": "code",
   "execution_count": null,
   "id": "a383569c-6375-4e0b-9f37-a3cc0b9df43c",
   "metadata": {},
   "outputs": [],
   "source": [
    "#Fairly fast ~65-70%\n",
    "#establish a model - can do rest inside first command or use the add method\n",
    "model = Sequential()\n",
    "\n",
    "model.add(Conv2D(64, (3,3), 2, activation='relu', input_shape=(400,600,3), padding='same'))\n",
    "model.add(MaxPooling2D())\n",
    "#model.add(BatchNormalization())\n",
    "\n",
    "model.add(Conv2D(128, (3,3), 2, activation='relu', padding='same'))\n",
    "#model.add(MaxPooling2D())\n",
    "#model.add(BatchNormalization())\n",
    "\n",
    "model.add(Conv2D(128, (3,3), 2, activation='relu', padding='same'))\n",
    "#model.add(MaxPooling2D())\n",
    "#model.add(BatchNormalization())\n",
    "\n",
    "model.add(Conv2D(256, (3,3), 2, activation='relu', padding='same'))\n",
    "#model.add(MaxPooling2D())\n",
    "#model.add(BatchNormalization())\n",
    "\n",
    "model.add(Conv2D(512, (3,3), 2, activation='relu', padding='same'))\n",
    "#model.add(MaxPooling2D())\n",
    "#model.add(BatchNormalization())\n",
    "\n",
    "model.add(Conv2D(1028, (3,3), 2, activation='relu'))\n",
    "#model.add(MaxPooling2D())\n",
    "model.add(BatchNormalization())\n",
    "\n",
    "\n",
    "#model.add(Flatten())\n",
    "model.add(GlobalAveragePooling2D())\n",
    "model.add(Dense(512, activation='relu'))\n",
    "#model.add(Dropout(0.8))\n",
    "#number of final possibilities is n-1\n",
    "model.add(Dense(12, activation='softmax'))"
   ]
  },
  {
   "cell_type": "code",
   "execution_count": null,
   "id": "ce718895-3b6f-4ee6-957e-8f0c6ec1ab5f",
   "metadata": {},
   "outputs": [],
   "source": [
    "#Original CNN from 5sp test - ~40%\n",
    "#establish a model - can do rest inside first command or use the add method\n",
    "model = Sequential()\n",
    "\n",
    "model.add(Conv2D(16, (5,5), 1, activation='relu', input_shape=(400,600,3)))\n",
    "model.add(MaxPooling2D())\n",
    "\n",
    "model.add(Conv2D(32, (5,5), 1, activation='relu'))\n",
    "model.add(MaxPooling2D())\n",
    "\n",
    "model.add(Conv2D(64, (5,5), 1, activation='relu'))\n",
    "model.add(MaxPooling2D())\n",
    "\n",
    "model.add(Flatten())\n",
    "\n",
    "model.add(Dense(256, activation='relu'))\n",
    "#number of final possibilities\n",
    "model.add(Dense(12, activation='softmax'))"
   ]
  },
  {
   "cell_type": "code",
   "execution_count": null,
   "id": "246e7ec3-bdcb-4f10-a5e4-3ea2aa39a6cc",
   "metadata": {},
   "outputs": [],
   "source": []
  },
  {
   "cell_type": "code",
   "execution_count": null,
   "id": "28fff7bc-253a-4a3d-a24a-e9886434426c",
   "metadata": {},
   "outputs": [],
   "source": []
  },
  {
   "cell_type": "code",
   "execution_count": null,
   "id": "f63cc753-7f59-4062-bad1-8df43e773777",
   "metadata": {},
   "outputs": [],
   "source": []
  },
  {
   "cell_type": "code",
   "execution_count": null,
   "id": "889ee0b3-1d37-48f0-b4e7-b3d7ad093f92",
   "metadata": {},
   "outputs": [],
   "source": []
  },
  {
   "cell_type": "code",
   "execution_count": null,
   "id": "598e6d95-8a53-4865-b950-b665b7c21839",
   "metadata": {},
   "outputs": [],
   "source": []
  },
  {
   "cell_type": "markdown",
   "id": "f9f99d16-2fa0-4d94-a43e-5895dfe9a9cc",
   "metadata": {},
   "source": [
    "## Xception clone"
   ]
  },
  {
   "cell_type": "code",
   "execution_count": 55,
   "id": "c143fcbe-c185-42ca-a6f8-e88d362e86a6",
   "metadata": {},
   "outputs": [],
   "source": [
    "#Copied from https://keras.io/examples/vision/image_classification_from_scratch/\n",
    "from tensorflow import keras\n",
    "from tensorflow.keras import layers\n",
    "def make_model(input_shape, num_classes):\n",
    "    inputs = keras.Input(shape=input_shape)\n",
    "\n",
    "    # Entry block\n",
    "    #x = layers.Rescaling(1.0 / 255)(inputs)\n",
    "    x = layers.Conv2D(128, 3, strides=2, padding=\"same\")(inputs)\n",
    "    x = layers.BatchNormalization()(x)\n",
    "    x = layers.Activation(\"relu\")(x)\n",
    "\n",
    "    previous_block_activation = x  # Set aside residual\n",
    "\n",
    "    for size in [256, 512, 728]:\n",
    "        x = layers.Activation(\"relu\")(x)\n",
    "        x = layers.SeparableConv2D(size, 3, padding=\"same\")(x)\n",
    "        x = layers.BatchNormalization()(x)\n",
    "\n",
    "        x = layers.Activation(\"relu\")(x)\n",
    "        x = layers.SeparableConv2D(size, 3, padding=\"same\")(x)\n",
    "        x = layers.BatchNormalization()(x)\n",
    "\n",
    "        x = layers.MaxPooling2D(3, strides=2, padding=\"same\")(x)\n",
    "\n",
    "        # Project residual\n",
    "        residual = layers.Conv2D(size, 1, strides=2, padding=\"same\")(\n",
    "            previous_block_activation\n",
    "        )\n",
    "        x = layers.add([x, residual])  # Add back residual\n",
    "        previous_block_activation = x  # Set aside next residual\n",
    "\n",
    "    x = layers.SeparableConv2D(1024, 3, padding=\"same\")(x)\n",
    "    x = layers.BatchNormalization()(x)\n",
    "    x = layers.Activation(\"relu\")(x)\n",
    "\n",
    "    x = layers.GlobalAveragePooling2D()(x)\n",
    "    if num_classes == 2:\n",
    "        activation = \"sigmoid\"\n",
    "        units = 1\n",
    "    else:\n",
    "        activation = \"softmax\"\n",
    "        units = num_classes\n",
    "\n",
    "    x = layers.Dropout(0.5)(x)\n",
    "    outputs = layers.Dense(units, activation=activation)(x)\n",
    "    return keras.Model(inputs, outputs)\n",
    "\n",
    "\n",
    "model = make_model(input_shape=(400, 600) + (3,), num_classes=12)\n",
    "#keras.utils.plot_model(model, show_shapes=True)"
   ]
  },
  {
   "cell_type": "code",
   "execution_count": null,
   "id": "fe6f3430-e477-49e6-827c-62971dfd61cd",
   "metadata": {},
   "outputs": [
    {
     "name": "stdout",
     "output_type": "stream",
     "text": [
      "Epoch 1/25\n",
      "7/7 [==============================] - 1284s 169s/step - loss: 1.8648 - accuracy: 0.2917 - val_loss: 2.4880 - val_accuracy: 0.0926\n",
      "Epoch 2/25\n",
      "7/7 [==============================] - 2492s 386s/step - loss: 1.4134 - accuracy: 0.4444 - val_loss: 2.5003 - val_accuracy: 0.0000e+00\n",
      "Epoch 3/25\n"
     ]
    },
    {
     "name": "stderr",
     "output_type": "stream",
     "text": [
      "2023-08-25 03:29:06.006285: I tensorflow/core/kernels/data/shuffle_dataset_op.cc:422] Filling up shuffle buffer (this may take a while): 63 of 256\n",
      "2023-08-25 03:29:16.086519: I tensorflow/core/kernels/data/shuffle_dataset_op.cc:422] Filling up shuffle buffer (this may take a while): 134 of 256\n",
      "2023-08-25 03:29:26.295964: I tensorflow/core/kernels/data/shuffle_dataset_op.cc:422] Filling up shuffle buffer (this may take a while): 203 of 256\n",
      "2023-08-25 03:29:27.572230: I tensorflow/core/kernels/data/shuffle_dataset_op.cc:450] Shuffle buffer filled.\n"
     ]
    },
    {
     "name": "stdout",
     "output_type": "stream",
     "text": [
      "7/7 [==============================] - 1502s 203s/step - loss: 1.2119 - accuracy: 0.4954 - val_loss: 2.5087 - val_accuracy: 0.0000e+00\n",
      "Epoch 4/25\n"
     ]
    },
    {
     "name": "stderr",
     "output_type": "stream",
     "text": [
      "2023-08-25 03:54:08.236416: I tensorflow/core/kernels/data/shuffle_dataset_op.cc:422] Filling up shuffle buffer (this may take a while): 100 of 256\n",
      "2023-08-25 03:54:18.354160: I tensorflow/core/kernels/data/shuffle_dataset_op.cc:422] Filling up shuffle buffer (this may take a while): 203 of 256\n",
      "2023-08-25 03:54:19.161916: I tensorflow/core/kernels/data/shuffle_dataset_op.cc:450] Shuffle buffer filled.\n"
     ]
    },
    {
     "name": "stdout",
     "output_type": "stream",
     "text": [
      "7/7 [==============================] - 1376s 189s/step - loss: 0.9261 - accuracy: 0.6111 - val_loss: 2.5246 - val_accuracy: 0.0000e+00\n",
      "Epoch 5/25\n"
     ]
    },
    {
     "name": "stderr",
     "output_type": "stream",
     "text": [
      "2023-08-25 04:17:04.300161: I tensorflow/core/kernels/data/shuffle_dataset_op.cc:422] Filling up shuffle buffer (this may take a while): 100 of 256\n",
      "2023-08-25 04:17:14.443692: I tensorflow/core/kernels/data/shuffle_dataset_op.cc:422] Filling up shuffle buffer (this may take a while): 208 of 256\n",
      "2023-08-25 04:17:14.925496: I tensorflow/core/kernels/data/shuffle_dataset_op.cc:450] Shuffle buffer filled.\n"
     ]
    },
    {
     "name": "stdout",
     "output_type": "stream",
     "text": [
      "7/7 [==============================] - 1372s 189s/step - loss: 0.8837 - accuracy: 0.6991 - val_loss: 2.5443 - val_accuracy: 0.0000e+00\n",
      "Epoch 6/25\n"
     ]
    },
    {
     "name": "stderr",
     "output_type": "stream",
     "text": [
      "2023-08-25 04:39:56.798043: I tensorflow/core/kernels/data/shuffle_dataset_op.cc:422] Filling up shuffle buffer (this may take a while): 100 of 256\n",
      "2023-08-25 04:40:06.650287: I tensorflow/core/kernels/data/shuffle_dataset_op.cc:422] Filling up shuffle buffer (this may take a while): 203 of 256\n",
      "2023-08-25 04:40:07.538098: I tensorflow/core/kernels/data/shuffle_dataset_op.cc:450] Shuffle buffer filled.\n"
     ]
    },
    {
     "name": "stdout",
     "output_type": "stream",
     "text": [
      "7/7 [==============================] - 1792s 261s/step - loss: 0.9289 - accuracy: 0.6713 - val_loss: 2.5728 - val_accuracy: 0.0556\n",
      "Epoch 7/25\n"
     ]
    },
    {
     "name": "stderr",
     "output_type": "stream",
     "text": [
      "2023-08-25 05:09:49.027251: I tensorflow/core/kernels/data/shuffle_dataset_op.cc:422] Filling up shuffle buffer (this may take a while): 66 of 256\n",
      "2023-08-25 05:09:59.086182: I tensorflow/core/kernels/data/shuffle_dataset_op.cc:422] Filling up shuffle buffer (this may take a while): 138 of 256\n",
      "2023-08-25 05:10:09.031479: I tensorflow/core/kernels/data/shuffle_dataset_op.cc:422] Filling up shuffle buffer (this may take a while): 216 of 256\n",
      "2023-08-25 05:10:09.031543: I tensorflow/core/kernels/data/shuffle_dataset_op.cc:450] Shuffle buffer filled.\n"
     ]
    },
    {
     "name": "stdout",
     "output_type": "stream",
     "text": [
      "7/7 [==============================] - 2110s 300s/step - loss: 0.7559 - accuracy: 0.7500 - val_loss: 2.5980 - val_accuracy: 0.0556\n",
      "Epoch 8/25\n",
      "7/7 [==============================] - 2040s 311s/step - loss: 0.7099 - accuracy: 0.7731 - val_loss: 2.6315 - val_accuracy: 0.0556\n",
      "Epoch 9/25\n"
     ]
    },
    {
     "name": "stderr",
     "output_type": "stream",
     "text": [
      "2023-08-25 06:34:31.370116: I tensorflow/core/kernels/data/shuffle_dataset_op.cc:422] Filling up shuffle buffer (this may take a while): 53 of 256\n",
      "2023-08-25 06:34:31.452979: I tensorflow/core/kernels/data/shuffle_dataset_op.cc:422] Filling up shuffle buffer (this may take a while): 54 of 256\n",
      "2023-08-25 06:34:31.495947: I tensorflow/core/kernels/data/shuffle_dataset_op.cc:422] Filling up shuffle buffer (this may take a while): 55 of 256\n",
      "2023-08-25 06:34:31.496006: I tensorflow/core/kernels/data/shuffle_dataset_op.cc:422] Filling up shuffle buffer (this may take a while): 56 of 256\n",
      "2023-08-25 06:34:31.651546: I tensorflow/core/kernels/data/shuffle_dataset_op.cc:422] Filling up shuffle buffer (this may take a while): 57 of 256\n",
      "2023-08-25 06:34:31.651560: I tensorflow/core/kernels/data/shuffle_dataset_op.cc:422] Filling up shuffle buffer (this may take a while): 58 of 256\n",
      "2023-08-25 06:34:31.651562: I tensorflow/core/kernels/data/shuffle_dataset_op.cc:422] Filling up shuffle buffer (this may take a while): 59 of 256\n",
      "2023-08-25 06:34:31.651564: I tensorflow/core/kernels/data/shuffle_dataset_op.cc:422] Filling up shuffle buffer (this may take a while): 60 of 256\n",
      "2023-08-25 06:34:31.707229: I tensorflow/core/kernels/data/shuffle_dataset_op.cc:422] Filling up shuffle buffer (this may take a while): 61 of 256\n",
      "2023-08-25 06:34:31.755495: I tensorflow/core/kernels/data/shuffle_dataset_op.cc:422] Filling up shuffle buffer (this may take a while): 62 of 256\n",
      "2023-08-25 06:34:31.995297: I tensorflow/core/kernels/data/shuffle_dataset_op.cc:422] Filling up shuffle buffer (this may take a while): 63 of 256\n",
      "2023-08-25 06:34:31.995308: I tensorflow/core/kernels/data/shuffle_dataset_op.cc:422] Filling up shuffle buffer (this may take a while): 64 of 256\n",
      "2023-08-25 06:34:31.995312: I tensorflow/core/kernels/data/shuffle_dataset_op.cc:422] Filling up shuffle buffer (this may take a while): 65 of 256\n",
      "2023-08-25 06:34:32.126227: I tensorflow/core/kernels/data/shuffle_dataset_op.cc:422] Filling up shuffle buffer (this may take a while): 66 of 256\n",
      "2023-08-25 06:34:32.126769: I tensorflow/core/kernels/data/shuffle_dataset_op.cc:422] Filling up shuffle buffer (this may take a while): 67 of 256\n",
      "2023-08-25 06:34:32.126778: I tensorflow/core/kernels/data/shuffle_dataset_op.cc:422] Filling up shuffle buffer (this may take a while): 68 of 256\n",
      "2023-08-25 06:34:32.126783: I tensorflow/core/kernels/data/shuffle_dataset_op.cc:422] Filling up shuffle buffer (this may take a while): 69 of 256\n",
      "2023-08-25 06:34:32.134376: I tensorflow/core/kernels/data/shuffle_dataset_op.cc:422] Filling up shuffle buffer (this may take a while): 70 of 256\n",
      "2023-08-25 06:34:32.231593: I tensorflow/core/kernels/data/shuffle_dataset_op.cc:422] Filling up shuffle buffer (this may take a while): 71 of 256\n",
      "2023-08-25 06:34:32.425395: I tensorflow/core/kernels/data/shuffle_dataset_op.cc:422] Filling up shuffle buffer (this may take a while): 72 of 256\n",
      "2023-08-25 06:34:32.425417: I tensorflow/core/kernels/data/shuffle_dataset_op.cc:422] Filling up shuffle buffer (this may take a while): 73 of 256\n",
      "2023-08-25 06:34:32.427088: I tensorflow/core/kernels/data/shuffle_dataset_op.cc:422] Filling up shuffle buffer (this may take a while): 74 of 256\n",
      "2023-08-25 06:34:32.469966: I tensorflow/core/kernels/data/shuffle_dataset_op.cc:422] Filling up shuffle buffer (this may take a while): 75 of 256\n",
      "2023-08-25 06:34:32.469977: I tensorflow/core/kernels/data/shuffle_dataset_op.cc:422] Filling up shuffle buffer (this may take a while): 76 of 256\n",
      "2023-08-25 06:34:32.469979: I tensorflow/core/kernels/data/shuffle_dataset_op.cc:422] Filling up shuffle buffer (this may take a while): 77 of 256\n",
      "2023-08-25 06:34:32.504625: I tensorflow/core/kernels/data/shuffle_dataset_op.cc:422] Filling up shuffle buffer (this may take a while): 78 of 256\n",
      "2023-08-25 06:34:32.504655: I tensorflow/core/kernels/data/shuffle_dataset_op.cc:422] Filling up shuffle buffer (this may take a while): 79 of 256\n",
      "2023-08-25 06:34:32.556363: I tensorflow/core/kernels/data/shuffle_dataset_op.cc:422] Filling up shuffle buffer (this may take a while): 80 of 256\n",
      "2023-08-25 06:34:32.773451: I tensorflow/core/kernels/data/shuffle_dataset_op.cc:422] Filling up shuffle buffer (this may take a while): 81 of 256\n",
      "2023-08-25 06:34:32.773554: I tensorflow/core/kernels/data/shuffle_dataset_op.cc:422] Filling up shuffle buffer (this may take a while): 82 of 256\n",
      "2023-08-25 06:34:32.773689: I tensorflow/core/kernels/data/shuffle_dataset_op.cc:422] Filling up shuffle buffer (this may take a while): 83 of 256\n",
      "2023-08-25 06:34:32.773695: I tensorflow/core/kernels/data/shuffle_dataset_op.cc:422] Filling up shuffle buffer (this may take a while): 84 of 256\n",
      "2023-08-25 06:34:32.784684: I tensorflow/core/kernels/data/shuffle_dataset_op.cc:422] Filling up shuffle buffer (this may take a while): 85 of 256\n",
      "2023-08-25 06:34:32.792774: I tensorflow/core/kernels/data/shuffle_dataset_op.cc:422] Filling up shuffle buffer (this may take a while): 86 of 256\n",
      "2023-08-25 06:34:32.795135: I tensorflow/core/kernels/data/shuffle_dataset_op.cc:422] Filling up shuffle buffer (this may take a while): 87 of 256\n",
      "2023-08-25 06:34:32.795143: I tensorflow/core/kernels/data/shuffle_dataset_op.cc:422] Filling up shuffle buffer (this may take a while): 88 of 256\n",
      "2023-08-25 06:34:32.869596: I tensorflow/core/kernels/data/shuffle_dataset_op.cc:422] Filling up shuffle buffer (this may take a while): 89 of 256\n",
      "2023-08-25 06:34:33.018081: I tensorflow/core/kernels/data/shuffle_dataset_op.cc:422] Filling up shuffle buffer (this may take a while): 90 of 256\n",
      "2023-08-25 06:34:33.018097: I tensorflow/core/kernels/data/shuffle_dataset_op.cc:422] Filling up shuffle buffer (this may take a while): 91 of 256\n",
      "2023-08-25 06:34:33.032343: I tensorflow/core/kernels/data/shuffle_dataset_op.cc:422] Filling up shuffle buffer (this may take a while): 92 of 256\n",
      "2023-08-25 06:34:33.112237: I tensorflow/core/kernels/data/shuffle_dataset_op.cc:422] Filling up shuffle buffer (this may take a while): 93 of 256\n",
      "2023-08-25 06:34:33.112258: I tensorflow/core/kernels/data/shuffle_dataset_op.cc:422] Filling up shuffle buffer (this may take a while): 94 of 256\n",
      "2023-08-25 06:34:33.112270: I tensorflow/core/kernels/data/shuffle_dataset_op.cc:422] Filling up shuffle buffer (this may take a while): 95 of 256\n",
      "2023-08-25 06:34:33.112275: I tensorflow/core/kernels/data/shuffle_dataset_op.cc:422] Filling up shuffle buffer (this may take a while): 96 of 256\n",
      "2023-08-25 06:34:33.112281: I tensorflow/core/kernels/data/shuffle_dataset_op.cc:422] Filling up shuffle buffer (this may take a while): 97 of 256\n",
      "2023-08-25 06:34:33.319473: I tensorflow/core/kernels/data/shuffle_dataset_op.cc:422] Filling up shuffle buffer (this may take a while): 98 of 256\n",
      "2023-08-25 06:34:33.319486: I tensorflow/core/kernels/data/shuffle_dataset_op.cc:422] Filling up shuffle buffer (this may take a while): 99 of 256\n",
      "2023-08-25 06:34:33.395492: I tensorflow/core/kernels/data/shuffle_dataset_op.cc:422] Filling up shuffle buffer (this may take a while): 100 of 256\n",
      "2023-08-25 06:34:33.395512: I tensorflow/core/kernels/data/shuffle_dataset_op.cc:422] Filling up shuffle buffer (this may take a while): 101 of 256\n",
      "2023-08-25 06:34:33.524185: I tensorflow/core/kernels/data/shuffle_dataset_op.cc:422] Filling up shuffle buffer (this may take a while): 102 of 256\n",
      "2023-08-25 06:34:33.524205: I tensorflow/core/kernels/data/shuffle_dataset_op.cc:422] Filling up shuffle buffer (this may take a while): 103 of 256\n",
      "2023-08-25 06:34:33.524210: I tensorflow/core/kernels/data/shuffle_dataset_op.cc:422] Filling up shuffle buffer (this may take a while): 104 of 256\n",
      "2023-08-25 06:34:33.524214: I tensorflow/core/kernels/data/shuffle_dataset_op.cc:422] Filling up shuffle buffer (this may take a while): 105 of 256\n",
      "2023-08-25 06:34:33.524218: I tensorflow/core/kernels/data/shuffle_dataset_op.cc:422] Filling up shuffle buffer (this may take a while): 106 of 256\n",
      "2023-08-25 06:34:33.563685: I tensorflow/core/kernels/data/shuffle_dataset_op.cc:422] Filling up shuffle buffer (this may take a while): 107 of 256\n",
      "2023-08-25 06:34:33.564867: I tensorflow/core/kernels/data/shuffle_dataset_op.cc:422] Filling up shuffle buffer (this may take a while): 108 of 256\n",
      "2023-08-25 06:34:33.753230: I tensorflow/core/kernels/data/shuffle_dataset_op.cc:422] Filling up shuffle buffer (this may take a while): 109 of 256\n",
      "2023-08-25 06:34:33.753252: I tensorflow/core/kernels/data/shuffle_dataset_op.cc:422] Filling up shuffle buffer (this may take a while): 110 of 256\n",
      "2023-08-25 06:34:33.886312: I tensorflow/core/kernels/data/shuffle_dataset_op.cc:422] Filling up shuffle buffer (this may take a while): 111 of 256\n",
      "2023-08-25 06:34:33.886326: I tensorflow/core/kernels/data/shuffle_dataset_op.cc:422] Filling up shuffle buffer (this may take a while): 112 of 256\n",
      "2023-08-25 06:34:33.886329: I tensorflow/core/kernels/data/shuffle_dataset_op.cc:422] Filling up shuffle buffer (this may take a while): 113 of 256\n",
      "2023-08-25 06:34:33.886373: I tensorflow/core/kernels/data/shuffle_dataset_op.cc:422] Filling up shuffle buffer (this may take a while): 114 of 256\n",
      "2023-08-25 06:34:33.886388: I tensorflow/core/kernels/data/shuffle_dataset_op.cc:422] Filling up shuffle buffer (this may take a while): 115 of 256\n",
      "2023-08-25 06:34:33.886408: I tensorflow/core/kernels/data/shuffle_dataset_op.cc:422] Filling up shuffle buffer (this may take a while): 116 of 256\n",
      "2023-08-25 06:34:33.947111: I tensorflow/core/kernels/data/shuffle_dataset_op.cc:422] Filling up shuffle buffer (this may take a while): 117 of 256\n",
      "2023-08-25 06:34:33.967447: I tensorflow/core/kernels/data/shuffle_dataset_op.cc:422] Filling up shuffle buffer (this may take a while): 118 of 256\n",
      "2023-08-25 06:34:34.099253: I tensorflow/core/kernels/data/shuffle_dataset_op.cc:422] Filling up shuffle buffer (this may take a while): 119 of 256\n",
      "2023-08-25 06:34:34.129000: I tensorflow/core/kernels/data/shuffle_dataset_op.cc:422] Filling up shuffle buffer (this may take a while): 120 of 256\n",
      "2023-08-25 06:34:34.243657: I tensorflow/core/kernels/data/shuffle_dataset_op.cc:422] Filling up shuffle buffer (this may take a while): 121 of 256\n",
      "2023-08-25 06:34:34.243684: I tensorflow/core/kernels/data/shuffle_dataset_op.cc:422] Filling up shuffle buffer (this may take a while): 122 of 256\n",
      "2023-08-25 06:34:34.243689: I tensorflow/core/kernels/data/shuffle_dataset_op.cc:422] Filling up shuffle buffer (this may take a while): 123 of 256\n",
      "2023-08-25 06:34:34.243693: I tensorflow/core/kernels/data/shuffle_dataset_op.cc:422] Filling up shuffle buffer (this may take a while): 124 of 256\n",
      "2023-08-25 06:34:34.243697: I tensorflow/core/kernels/data/shuffle_dataset_op.cc:422] Filling up shuffle buffer (this may take a while): 125 of 256\n",
      "2023-08-25 06:34:34.255137: I tensorflow/core/kernels/data/shuffle_dataset_op.cc:422] Filling up shuffle buffer (this may take a while): 126 of 256\n",
      "2023-08-25 06:34:34.309921: I tensorflow/core/kernels/data/shuffle_dataset_op.cc:422] Filling up shuffle buffer (this may take a while): 127 of 256\n",
      "2023-08-25 06:34:34.365506: I tensorflow/core/kernels/data/shuffle_dataset_op.cc:422] Filling up shuffle buffer (this may take a while): 128 of 256\n",
      "2023-08-25 06:34:34.444439: I tensorflow/core/kernels/data/shuffle_dataset_op.cc:422] Filling up shuffle buffer (this may take a while): 129 of 256\n",
      "2023-08-25 06:34:34.477543: I tensorflow/core/kernels/data/shuffle_dataset_op.cc:422] Filling up shuffle buffer (this may take a while): 130 of 256\n",
      "2023-08-25 06:34:34.477552: I tensorflow/core/kernels/data/shuffle_dataset_op.cc:422] Filling up shuffle buffer (this may take a while): 131 of 256\n",
      "2023-08-25 06:34:34.477554: I tensorflow/core/kernels/data/shuffle_dataset_op.cc:422] Filling up shuffle buffer (this may take a while): 132 of 256\n",
      "2023-08-25 06:34:34.486637: I tensorflow/core/kernels/data/shuffle_dataset_op.cc:422] Filling up shuffle buffer (this may take a while): 133 of 256\n",
      "2023-08-25 06:34:34.493150: I tensorflow/core/kernels/data/shuffle_dataset_op.cc:422] Filling up shuffle buffer (this may take a while): 134 of 256\n",
      "2023-08-25 06:34:34.671455: I tensorflow/core/kernels/data/shuffle_dataset_op.cc:422] Filling up shuffle buffer (this may take a while): 135 of 256\n",
      "2023-08-25 06:34:34.671467: I tensorflow/core/kernels/data/shuffle_dataset_op.cc:422] Filling up shuffle buffer (this may take a while): 136 of 256\n",
      "2023-08-25 06:34:34.693798: I tensorflow/core/kernels/data/shuffle_dataset_op.cc:422] Filling up shuffle buffer (this may take a while): 137 of 256\n",
      "2023-08-25 06:34:34.789749: I tensorflow/core/kernels/data/shuffle_dataset_op.cc:422] Filling up shuffle buffer (this may take a while): 138 of 256\n",
      "2023-08-25 06:34:34.789762: I tensorflow/core/kernels/data/shuffle_dataset_op.cc:422] Filling up shuffle buffer (this may take a while): 139 of 256\n",
      "2023-08-25 06:34:34.789906: I tensorflow/core/kernels/data/shuffle_dataset_op.cc:422] Filling up shuffle buffer (this may take a while): 140 of 256\n",
      "2023-08-25 06:34:34.790012: I tensorflow/core/kernels/data/shuffle_dataset_op.cc:422] Filling up shuffle buffer (this may take a while): 141 of 256\n",
      "2023-08-25 06:34:34.790650: I tensorflow/core/kernels/data/shuffle_dataset_op.cc:422] Filling up shuffle buffer (this may take a while): 142 of 256\n",
      "2023-08-25 06:34:34.835316: I tensorflow/core/kernels/data/shuffle_dataset_op.cc:422] Filling up shuffle buffer (this may take a while): 143 of 256\n",
      "2023-08-25 06:34:34.889970: I tensorflow/core/kernels/data/shuffle_dataset_op.cc:422] Filling up shuffle buffer (this may take a while): 144 of 256\n",
      "2023-08-25 06:34:34.915644: I tensorflow/core/kernels/data/shuffle_dataset_op.cc:422] Filling up shuffle buffer (this may take a while): 145 of 256\n",
      "2023-08-25 06:34:35.043306: I tensorflow/core/kernels/data/shuffle_dataset_op.cc:422] Filling up shuffle buffer (this may take a while): 146 of 256\n",
      "2023-08-25 06:34:37.231149: I tensorflow/core/kernels/data/shuffle_dataset_op.cc:450] Shuffle buffer filled.\n"
     ]
    },
    {
     "name": "stdout",
     "output_type": "stream",
     "text": [
      "7/7 [==============================] - 2226s 186s/step - loss: 0.6169 - accuracy: 0.7963 - val_loss: 2.6538 - val_accuracy: 0.0556\n",
      "Epoch 10/25\n",
      "7/7 [==============================] - 985s 140s/step - loss: 0.5971 - accuracy: 0.8102 - val_loss: 2.6986 - val_accuracy: 0.0556\n",
      "Epoch 11/25\n",
      "7/7 [==============================] - 975s 140s/step - loss: 0.5538 - accuracy: 0.7917 - val_loss: 2.7360 - val_accuracy: 0.0556\n",
      "Epoch 12/25\n",
      "7/7 [==============================] - 1183s 167s/step - loss: 0.4286 - accuracy: 0.8981 - val_loss: 2.7777 - val_accuracy: 0.0556\n",
      "Epoch 13/25\n",
      "7/7 [==============================] - 1175s 164s/step - loss: 0.3670 - accuracy: 0.8935 - val_loss: 2.8256 - val_accuracy: 0.0556\n",
      "Epoch 14/25\n",
      "4/7 [================>.............] - ETA: 9:25 - loss: 0.2628 - accuracy: 0.9609 "
     ]
    }
   ],
   "source": [
    "# run model\n",
    "epochs = 25\n",
    "\n",
    "callbacks = [\n",
    "    keras.callbacks.ModelCheckpoint(\"save_at_{epoch}.keras\"),\n",
    "]\n",
    "model.compile(\n",
    "    optimizer=keras.optimizers.legacy.Adam(1e-3),\n",
    "    loss=\"sparse_categorical_crossentropy\",\n",
    "    metrics=[\"accuracy\"],\n",
    ")\n",
    "model.fit(\n",
    "    train_scaled,\n",
    "    epochs=epochs,\n",
    "    callbacks=callbacks,\n",
    "    validation_data=val_scaled,\n",
    ")"
   ]
  },
  {
   "cell_type": "code",
   "execution_count": null,
   "id": "127414e8-3955-4ac6-a359-f8aa52f8c453",
   "metadata": {},
   "outputs": [],
   "source": []
  }
 ],
 "metadata": {
  "kernelspec": {
   "display_name": "Python 3 (ipykernel)",
   "language": "python",
   "name": "python3"
  },
  "language_info": {
   "codemirror_mode": {
    "name": "ipython",
    "version": 3
   },
   "file_extension": ".py",
   "mimetype": "text/x-python",
   "name": "python",
   "nbconvert_exporter": "python",
   "pygments_lexer": "ipython3",
   "version": "3.11.4"
  }
 },
 "nbformat": 4,
 "nbformat_minor": 5
}
