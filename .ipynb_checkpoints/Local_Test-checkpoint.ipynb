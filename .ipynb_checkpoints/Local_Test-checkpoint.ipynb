{
 "cells": [
  {
   "cell_type": "markdown",
   "id": "3a5be664-a2ce-49ef-bf6e-ea74f87713f3",
   "metadata": {},
   "source": [
    "# Test images locally"
   ]
  },
  {
   "cell_type": "code",
   "execution_count": 1,
   "id": "306ac110-d3d7-4dcc-adbd-0fabe6935136",
   "metadata": {},
   "outputs": [],
   "source": [
    "import cv2, os\n",
    "import tensorflow as tf\n",
    "from tensorflow import keras\n",
    "import numpy as np\n",
    "from tensorflow.keras.models import load_model"
   ]
  },
  {
   "cell_type": "code",
   "execution_count": 39,
   "id": "303710be-f25f-4bc0-ac08-074fa11d4a40",
   "metadata": {},
   "outputs": [],
   "source": [
    "#load from file\n",
    "model = load_model(os.path.join('models','JORN-14.tf'))\n",
    "classes=['CALPER2',\n",
    " 'CHLSER',\n",
    " 'CHLTOM',\n",
    " 'CICPUN',\n",
    " 'CYMPUN2',\n",
    " 'DISROB',\n",
    " 'EURGRO',\n",
    " 'HAROBL',\n",
    " 'HARPEN',\n",
    " 'HELFER',\n",
    " 'JUNLEM',\n",
    " 'PASOBS',\n",
    " 'SELPLA',\n",
    " 'TETPAL']"
   ]
  },
  {
   "cell_type": "code",
   "execution_count": 71,
   "id": "586bd24e-6066-491f-a0b7-9842fbb3f50a",
   "metadata": {},
   "outputs": [],
   "source": [
    "#load image\n",
    "#img = cv2.imread('carabid_data/NF-SCASUB2/NEON.BET.D06.004113.JPG')\n",
    "img = cv2.imread('test_images/CHLTOM_unknown1.JPG')\n",
    "resize = tf.image.resize(img, (400, 600))"
   ]
  },
  {
   "cell_type": "code",
   "execution_count": 72,
   "id": "183e0926-2dc6-4f81-8165-56c3178260dc",
   "metadata": {},
   "outputs": [
    {
     "name": "stdout",
     "output_type": "stream",
     "text": [
      "1/1 [==============================] - 0s 21ms/step\n",
      "Predicted taxon is: PASOBS\n",
      "Predicted probability is: 0.38085681200027466\n"
     ]
    }
   ],
   "source": [
    "y_prob = model.predict(np.expand_dims(resize/255, 0))\n",
    "y_classes = y_prob.argmax(axis=-1)\n",
    "print(f'Predicted taxon is: {classes[y_classes[0]]}')\n",
    "#print(f'Predicted taxon2 is: {classes2[y_classes[0]]}')\n",
    "print(f'Predicted probability is: {y_prob[0][y_prob.argmax()]}')"
   ]
  },
  {
   "cell_type": "code",
   "execution_count": 42,
   "id": "14fa4732-f296-4b63-ae22-cf1c37db6c62",
   "metadata": {},
   "outputs": [
    {
     "data": {
      "text/plain": [
       "array([1.0582987e-01, 2.2132515e-03, 7.3011333e-01, 2.6949385e-08,\n",
       "       5.6173874e-08, 5.7204375e-05, 5.1434718e-02, 4.6740873e-09,\n",
       "       1.5014972e-02, 1.4977059e-16, 1.3941279e-21, 9.5332719e-02,\n",
       "       3.8709013e-06, 3.2584136e-23], dtype=float32)"
      ]
     },
     "execution_count": 42,
     "metadata": {},
     "output_type": "execute_result"
    }
   ],
   "source": [
    "y_prob[0]"
   ]
  },
  {
   "cell_type": "code",
   "execution_count": 43,
   "id": "7c50917c-9525-4b5f-bfc8-9c9e636578cc",
   "metadata": {},
   "outputs": [],
   "source": [
    "classes3=os.listdir('carabid_data')\n"
   ]
  },
  {
   "cell_type": "code",
   "execution_count": 44,
   "id": "87738b9a-f2da-453a-a54b-c9ccca435fda",
   "metadata": {},
   "outputs": [
    {
     "data": {
      "text/plain": [
       "['NF-PASCAL',\n",
       " '.DS_Store',\n",
       " 'CHLSER',\n",
       " 'NF-PASELO',\n",
       " 'JUNLEM',\n",
       " 'NF-OMUDEJ',\n",
       " 'CALPER2',\n",
       " 'NF-PTELAM',\n",
       " 'CYMPUN2',\n",
       " 'CICPUN',\n",
       " 'NF-SCASUB2',\n",
       " 'DISROB',\n",
       " 'CHLTOM']"
      ]
     },
     "execution_count": 44,
     "metadata": {},
     "output_type": "execute_result"
    }
   ],
   "source": [
    "classes3"
   ]
  },
  {
   "cell_type": "code",
   "execution_count": null,
   "id": "a5d350c7-254e-46a3-a4bf-1cad86572dc6",
   "metadata": {},
   "outputs": [],
   "source": []
  }
 ],
 "metadata": {
  "kernelspec": {
   "display_name": "Python 3 (ipykernel)",
   "language": "python",
   "name": "python3"
  },
  "language_info": {
   "codemirror_mode": {
    "name": "ipython",
    "version": 3
   },
   "file_extension": ".py",
   "mimetype": "text/x-python",
   "name": "python",
   "nbconvert_exporter": "python",
   "pygments_lexer": "ipython3",
   "version": "3.11.4"
  }
 },
 "nbformat": 4,
 "nbformat_minor": 5
}
